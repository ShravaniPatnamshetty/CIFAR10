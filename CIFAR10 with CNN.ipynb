{
 "cells": [
  {
   "cell_type": "code",
   "execution_count": 2,
   "id": "97d05f59",
   "metadata": {},
   "outputs": [],
   "source": [
    "import tensorflow as tf\n",
    "from tensorflow.keras import models,datasets,layers\n",
    "import matplotlib.pyplot as plt\n",
    "import numpy as np"
   ]
  },
  {
   "cell_type": "code",
   "execution_count": 6,
   "id": "9e3596af",
   "metadata": {},
   "outputs": [],
   "source": [
    "(X_train,y_train),(X_test,y_test)=datasets.cifar10.load_data()"
   ]
  },
  {
   "cell_type": "code",
   "execution_count": 7,
   "id": "44849e29",
   "metadata": {},
   "outputs": [
    {
     "data": {
      "text/plain": [
       "(50000, 32, 32, 3)"
      ]
     },
     "execution_count": 7,
     "metadata": {},
     "output_type": "execute_result"
    }
   ],
   "source": [
    "X_train.shape"
   ]
  },
  {
   "cell_type": "code",
   "execution_count": 8,
   "id": "d2e0ccd8",
   "metadata": {},
   "outputs": [
    {
     "data": {
      "text/plain": [
       "(50000, 1)"
      ]
     },
     "execution_count": 8,
     "metadata": {},
     "output_type": "execute_result"
    }
   ],
   "source": [
    "y_train.shape"
   ]
  },
  {
   "cell_type": "code",
   "execution_count": 9,
   "id": "b1ad1cba",
   "metadata": {},
   "outputs": [],
   "source": [
    "y_train=y_train.reshape(-1,)\n",
    "#this converts the 2D into 1D"
   ]
  },
  {
   "cell_type": "code",
   "execution_count": 10,
   "id": "80800286",
   "metadata": {},
   "outputs": [
    {
     "data": {
      "text/plain": [
       "array([[[ 59,  62,  63],\n",
       "        [ 43,  46,  45],\n",
       "        [ 50,  48,  43],\n",
       "        ...,\n",
       "        [158, 132, 108],\n",
       "        [152, 125, 102],\n",
       "        [148, 124, 103]],\n",
       "\n",
       "       [[ 16,  20,  20],\n",
       "        [  0,   0,   0],\n",
       "        [ 18,   8,   0],\n",
       "        ...,\n",
       "        [123,  88,  55],\n",
       "        [119,  83,  50],\n",
       "        [122,  87,  57]],\n",
       "\n",
       "       [[ 25,  24,  21],\n",
       "        [ 16,   7,   0],\n",
       "        [ 49,  27,   8],\n",
       "        ...,\n",
       "        [118,  84,  50],\n",
       "        [120,  84,  50],\n",
       "        [109,  73,  42]],\n",
       "\n",
       "       ...,\n",
       "\n",
       "       [[208, 170,  96],\n",
       "        [201, 153,  34],\n",
       "        [198, 161,  26],\n",
       "        ...,\n",
       "        [160, 133,  70],\n",
       "        [ 56,  31,   7],\n",
       "        [ 53,  34,  20]],\n",
       "\n",
       "       [[180, 139,  96],\n",
       "        [173, 123,  42],\n",
       "        [186, 144,  30],\n",
       "        ...,\n",
       "        [184, 148,  94],\n",
       "        [ 97,  62,  34],\n",
       "        [ 83,  53,  34]],\n",
       "\n",
       "       [[177, 144, 116],\n",
       "        [168, 129,  94],\n",
       "        [179, 142,  87],\n",
       "        ...,\n",
       "        [216, 184, 140],\n",
       "        [151, 118,  84],\n",
       "        [123,  92,  72]]], dtype=uint8)"
      ]
     },
     "execution_count": 10,
     "metadata": {},
     "output_type": "execute_result"
    }
   ],
   "source": [
    "X_train[0]"
   ]
  },
  {
   "cell_type": "code",
   "execution_count": 85,
   "id": "4b2f53e4",
   "metadata": {},
   "outputs": [
    {
     "data": {
      "text/plain": [
       "<matplotlib.image.AxesImage at 0x1a0d2128340>"
      ]
     },
     "execution_count": 85,
     "metadata": {},
     "output_type": "execute_result"
    },
    {
     "data": {
      "image/png": "[encoded data removed]",
      "text/plain": [
       "<Figure size 432x288 with 1 Axes>"
      ]
     },
     "metadata": {
      "needs_background": "light"
     },
     "output_type": "display_data"
    }
   ],
   "source": [
    "plt.imshow(X_train[7])"
   ]
  },
  {
   "cell_type": "code",
   "execution_count": 86,
   "id": "516ebb1a",
   "metadata": {},
   "outputs": [
    {
     "data": {
      "text/plain": [
       "6"
      ]
     },
     "execution_count": 86,
     "metadata": {},
     "output_type": "execute_result"
    }
   ],
   "source": [
    "y_train[7]"
   ]
  },
  {
   "cell_type": "code",
   "execution_count": 14,
   "id": "d3cfafc6",
   "metadata": {},
   "outputs": [],
   "source": [
    "classes=[\"airplane\",\"automobile\",\"bird\",\"cat\",\"dear\",\"dog\",\"frog\",\"horse\",\"ship\",\"truck\"]"
   ]
  },
  {
   "cell_type": "code",
   "execution_count": 16,
   "id": "ca7e535f",
   "metadata": {},
   "outputs": [
    {
     "data": {
      "text/plain": [
       "'frog'"
      ]
     },
     "execution_count": 16,
     "metadata": {},
     "output_type": "execute_result"
    }
   ],
   "source": [
    "classes[y_train[0]]"
   ]
  },
  {
   "cell_type": "code",
   "execution_count": 19,
   "id": "af6e316d",
   "metadata": {},
   "outputs": [],
   "source": [
    "#defining the function\n",
    "def plt_sample(x,y,index):\n",
    "    plt.figure(figsize=(15,2))\n",
    "    plt.imshow(x[index])\n",
    "    plt.xlabel(classes[y[index]])"
   ]
  },
  {
   "cell_type": "code",
   "execution_count": 23,
   "id": "1ec4c688",
   "metadata": {},
   "outputs": [
    {
     "data": {
      "image/png": "[encoded data removed]",
      "text/plain": [
       "<Figure size 1080x144 with 1 Axes>"
      ]
     },
     "metadata": {
      "needs_background": "light"
     },
     "output_type": "display_data"
    }
   ],
   "source": [
    "plt_sample(X_train,y_train,8)"
   ]
  },
  {
   "cell_type": "code",
   "execution_count": 24,
   "id": "bba5db25",
   "metadata": {},
   "outputs": [],
   "source": [
    "#To normalize we divide the train image pixes by 255\n",
    "X_train=X_train/255\n",
    "X_test=X_test/255"
   ]
  },
  {
   "cell_type": "code",
   "execution_count": 30,
   "id": "5c9c2edd",
   "metadata": {},
   "outputs": [],
   "source": [
    "#LETS first try trianing the ANN on image classifier and try comparing it with cnn\n",
    "#model trianing (ANN)\n",
    "from tensorflow import keras\n",
    "ann = models.Sequential([\n",
    "    layers.Flatten(input_shape=(32,32,3)),\n",
    "    keras.layers.Dense(3000,activation='selu', kernel_initializer=\"lecun_normal\"),\n",
    "    keras.layers.Dense(1000,activation='selu', kernel_initializer=\"lecun_normal\"),\n",
    "    keras.layers.Dense(10,activation='sigmoid')\n",
    "])"
   ]
  },
  {
   "cell_type": "code",
   "execution_count": 33,
   "id": "c4c54087",
   "metadata": {},
   "outputs": [
    {
     "name": "stderr",
     "output_type": "stream",
     "text": [
      "C:\\Users\\SHRAVNI SHETTY\\anaconda3\\lib\\site-packages\\keras\\optimizer_v2\\adam.py:105: UserWarning: The `lr` argument is deprecated, use `learning_rate` instead.\n",
      "  super(Adam, self).__init__(name, **kwargs)\n"
     ]
    }
   ],
   "source": [
    "ann.compile(optimizer = keras.optimizers.Adam(lr=0.001, beta_1=0.9, beta_2=0.999),\n",
    "           loss='sparse_categorical_crossentropy',\n",
    "           metrics=['accuracy'])"
   ]
  },
  {
   "cell_type": "code",
   "execution_count": 34,
   "id": "341cf2c8",
   "metadata": {},
   "outputs": [
    {
     "name": "stdout",
     "output_type": "stream",
     "text": [
      "Epoch 1/7\n",
      "1563/1563 [==============================] - 142s 86ms/step - loss: 2.3794 - accuracy: 0.2517\n",
      "Epoch 2/7\n",
      "1563/1563 [==============================] - 138s 88ms/step - loss: 1.9341 - accuracy: 0.3154s - los\n",
      "Epoch 3/7\n",
      "1563/1563 [==============================] - 137s 88ms/step - loss: 1.8468 - accuracy: 0.3490\n",
      "Epoch 4/7\n",
      "1563/1563 [==============================] - 126s 81ms/step - loss: 1.8026 - accuracy: 0.3684\n",
      "Epoch 5/7\n",
      "1563/1563 [==============================] - 134s 86ms/step - loss: 1.7335 - accuracy: 0.3905\n",
      "Epoch 6/7\n",
      "1563/1563 [==============================] - 137s 88ms/step - loss: 1.7107 - accuracy: 0.4028\n",
      "Epoch 7/7\n",
      "1563/1563 [==============================] - 131s 84ms/step - loss: 1.6648 - accuracy: 0.4214\n"
     ]
    },
    {
     "data": {
      "text/plain": [
       "<keras.callbacks.History at 0x1a0ae10e580>"
      ]
     },
     "execution_count": 34,
     "metadata": {},
     "output_type": "execute_result"
    }
   ],
   "source": [
    "ann.fit(X_train,y_train,epochs=7)"
   ]
  },
  {
   "cell_type": "code",
   "execution_count": 35,
   "id": "6c86b4f6",
   "metadata": {},
   "outputs": [
    {
     "name": "stdout",
     "output_type": "stream",
     "text": [
      "313/313 [==============================] - 5s 15ms/step - loss: 1.7223 - accuracy: 0.4167\n"
     ]
    },
    {
     "data": {
      "text/plain": [
       "[1.7223395109176636, 0.41670000553131104]"
      ]
     },
     "execution_count": 35,
     "metadata": {},
     "output_type": "execute_result"
    }
   ],
   "source": [
    "ann.evaluate(X_test,y_test)"
   ]
  },
  {
   "cell_type": "markdown",
   "id": "cabdee13",
   "metadata": {},
   "source": [
    "# model building with CNN"
   ]
  },
  {
   "cell_type": "code",
   "execution_count": 40,
   "id": "fd8af6b0",
   "metadata": {},
   "outputs": [],
   "source": [
    "cnn = models.Sequential([\n",
    "    layers.Conv2D(filters=32, kernel_size=(3,3), activation='relu', input_shape=(32,32,3)),\n",
    "    layers.MaxPooling2D((2,2)),\n",
    "    layers.Conv2D(filters=64, kernel_size=(3,3), activation='relu' ),\n",
    "    layers.MaxPooling2D((2,2)),\n",
    "    #dense\n",
    "    layers.Flatten(),\n",
    "    keras.layers.Dense(30,activation='relu'),\n",
    "    keras.layers.Dense(20,activation='relu'),\n",
    "    keras.layers.Dense(10,activation='softmax')\n",
    "])"
   ]
  },
  {
   "cell_type": "code",
   "execution_count": 41,
   "id": "023a0ac9",
   "metadata": {},
   "outputs": [],
   "source": [
    "cnn.compile(optimizer=\"adam\",\n",
    "           loss=\"sparse_categorical_crossentropy\",\n",
    "           metrics=[\"accuracy\"])"
   ]
  },
  {
   "cell_type": "code",
   "execution_count": 42,
   "id": "88aff2f4",
   "metadata": {},
   "outputs": [],
   "source": [
    "from sklearn.model_selection import train_test_split\n",
    "X_train,X_valid,y_train,y_valid=train_test_split(X_train,y_train)"
   ]
  },
  {
   "cell_type": "code",
   "execution_count": 44,
   "id": "5edc45c1",
   "metadata": {},
   "outputs": [
    {
     "name": "stdout",
     "output_type": "stream",
     "text": [
      "Epoch 1/15\n",
      "1172/1172 [==============================] - 34s 28ms/step - loss: 1.6720 - accuracy: 0.3801 - val_loss: 1.4619 - val_accuracy: 0.4778\n",
      "Epoch 2/15\n",
      "1172/1172 [==============================] - 32s 27ms/step - loss: 1.3268 - accuracy: 0.5190 - val_loss: 1.2272 - val_accuracy: 0.5574\n",
      "Epoch 3/15\n",
      "1172/1172 [==============================] - 31s 27ms/step - loss: 1.1888 - accuracy: 0.5738 - val_loss: 1.2000 - val_accuracy: 0.5712\n",
      "Epoch 4/15\n",
      "1172/1172 [==============================] - 32s 27ms/step - loss: 1.0992 - accuracy: 0.6089 - val_loss: 1.1129 - val_accuracy: 0.6071\n",
      "Epoch 5/15\n",
      "1172/1172 [==============================] - 32s 27ms/step - loss: 1.0344 - accuracy: 0.6331 - val_loss: 1.0874 - val_accuracy: 0.6121\n",
      "Epoch 6/15\n",
      "1172/1172 [==============================] - 33s 28ms/step - loss: 0.9809 - accuracy: 0.6520 - val_loss: 1.0491 - val_accuracy: 0.6309\n",
      "Epoch 7/15\n",
      "1172/1172 [==============================] - 34s 29ms/step - loss: 0.9286 - accuracy: 0.6714 - val_loss: 1.1072 - val_accuracy: 0.6242\n",
      "Epoch 8/15\n",
      "1172/1172 [==============================] - 32s 28ms/step - loss: 0.8884 - accuracy: 0.6867 - val_loss: 1.0039 - val_accuracy: 0.6507\n",
      "Epoch 9/15\n",
      "1172/1172 [==============================] - 32s 27ms/step - loss: 0.8421 - accuracy: 0.7026 - val_loss: 0.9853 - val_accuracy: 0.6602\n",
      "Epoch 10/15\n",
      "1172/1172 [==============================] - 32s 28ms/step - loss: 0.8071 - accuracy: 0.7173 - val_loss: 1.0043 - val_accuracy: 0.6542\n",
      "Epoch 11/15\n",
      "1172/1172 [==============================] - 34s 29ms/step - loss: 0.7751 - accuracy: 0.7270 - val_loss: 1.0040 - val_accuracy: 0.6603\n",
      "Epoch 12/15\n",
      "1172/1172 [==============================] - 35s 30ms/step - loss: 0.7424 - accuracy: 0.7400 - val_loss: 1.0178 - val_accuracy: 0.6614\n",
      "Epoch 13/15\n",
      "1172/1172 [==============================] - 35s 30ms/step - loss: 0.7136 - accuracy: 0.7491 - val_loss: 1.0194 - val_accuracy: 0.6638\n",
      "Epoch 14/15\n",
      "1172/1172 [==============================] - 35s 30ms/step - loss: 0.6866 - accuracy: 0.7589 - val_loss: 0.9911 - val_accuracy: 0.6718\n",
      "Epoch 15/15\n",
      "1172/1172 [==============================] - 35s 30ms/step - loss: 0.6580 - accuracy: 0.7661 - val_loss: 1.0538 - val_accuracy: 0.6643\n"
     ]
    },
    {
     "data": {
      "text/plain": [
       "<keras.callbacks.History at 0x1a0b4cf2b50>"
      ]
     },
     "execution_count": 44,
     "metadata": {},
     "output_type": "execute_result"
    }
   ],
   "source": [
    "cnn.fit(X_train,y_train,epochs=15,validation_data=(X_valid,y_valid))"
   ]
  },
  {
   "cell_type": "code",
   "execution_count": 45,
   "id": "5d6791fc",
   "metadata": {},
   "outputs": [
    {
     "name": "stdout",
     "output_type": "stream",
     "text": [
      "313/313 [==============================] - 3s 8ms/step - loss: 1.0591 - accuracy: 0.6611\n"
     ]
    },
    {
     "data": {
      "text/plain": [
       "[1.059061050415039, 0.6610999703407288]"
      ]
     },
     "execution_count": 45,
     "metadata": {},
     "output_type": "execute_result"
    }
   ],
   "source": [
    "cnn.evaluate(X_test,y_test)"
   ]
  },
  {
   "cell_type": "code",
   "execution_count": 46,
   "id": "f742bec1",
   "metadata": {},
   "outputs": [
    {
     "data": {
      "text/plain": [
       "[3, 1, 8, 0, 4]"
      ]
     },
     "execution_count": 46,
     "metadata": {},
     "output_type": "execute_result"
    }
   ],
   "source": [
    "y_pred=cnn.predict(X_test)\n",
    "y_classes=[np.argmax(element) for element in y_pred]\n",
    "y_classes[:5]"
   ]
  },
  {
   "cell_type": "code",
   "execution_count": 54,
   "id": "99cd6c8f",
   "metadata": {},
   "outputs": [
    {
     "data": {
      "text/plain": [
       "array([3, 8, 8, 0, 6], dtype=uint8)"
      ]
     },
     "execution_count": 54,
     "metadata": {},
     "output_type": "execute_result"
    }
   ],
   "source": [
    "y_test[:5].reshape(-1,)"
   ]
  },
  {
   "cell_type": "code",
   "execution_count": 49,
   "id": "efc7d16a",
   "metadata": {},
   "outputs": [],
   "source": [
    "y_test=y_test.reshape(-1,)"
   ]
  },
  {
   "cell_type": "code",
   "execution_count": 53,
   "id": "f891bf8b",
   "metadata": {},
   "outputs": [
    {
     "data": {
      "image/png": "[encoded data removed]",
      "text/plain": [
       "<Figure size 1080x144 with 1 Axes>"
      ]
     },
     "metadata": {
      "needs_background": "light"
     },
     "output_type": "display_data"
    }
   ],
   "source": [
    "plt_sample(X_test,y_test,3)"
   ]
  },
  {
   "cell_type": "code",
   "execution_count": null,
   "id": "fff1a35a",
   "metadata": {},
   "outputs": [],
   "source": []
  }
 ],
 "metadata": {
  "kernelspec": {
   "display_name": "Python 3",
   "language": "python",
   "name": "python3"
  },
  "language_info": {
   "codemirror_mode": {
    "name": "ipython",
    "version": 3
   },
   "file_extension": ".py",
   "mimetype": "text/x-python",
   "name": "python",
   "nbconvert_exporter": "python",
   "pygments_lexer": "ipython3",
   "version": "3.8.8"
  }
 },
 "nbformat": 4,
 "nbformat_minor": 5
}
